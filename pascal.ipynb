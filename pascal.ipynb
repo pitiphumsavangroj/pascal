{
 "cells": [
  {
   "cell_type": "code",
   "execution_count": 4,
   "id": "ef5a2e0f",
   "metadata": {},
   "outputs": [],
   "source": [
    "import numpy as np"
   ]
  },
  {
   "cell_type": "code",
   "execution_count": 5,
   "id": "a231cbee",
   "metadata": {},
   "outputs": [
    {
     "name": "stdout",
     "output_type": "stream",
     "text": [
      "[[  1   0   0   0   0   0   0   0   0   0]\n",
      " [  1   1   0   0   0   0   0   0   0   0]\n",
      " [  1   2   1   0   0   0   0   0   0   0]\n",
      " [  1   3   3   1   0   0   0   0   0   0]\n",
      " [  1   4   6   4   1   0   0   0   0   0]\n",
      " [  1   5  10  10   5   1   0   0   0   0]\n",
      " [  1   6  15  20  15   6   1   0   0   0]\n",
      " [  1   7  21  35  35  21   7   1   0   0]\n",
      " [  1   8  28  56  70  56  28   8   1   0]\n",
      " [  1   9  36  84 126 126  84  36   9   1]]\n"
     ]
    }
   ],
   "source": [
    "n = 10\n",
    " \n",
    "pascal = np.zeros((n,n), dtype=int)\n",
    "pascal[0,0] = pascal[1,0] = pascal[1,1] = 1\n",
    "\n",
    "for row in range(2,n):\n",
    "    for col in range(0,row+1):\n",
    "        pascal[row,col] = pascal[row-1,col-1] + pascal[row-1,col]\n",
    "print(pascal)"
   ]
  }
 ],
 "metadata": {
  "kernelspec": {
   "display_name": "Python 3",
   "language": "python",
   "name": "python3"
  },
  "language_info": {
   "codemirror_mode": {
    "name": "ipython",
    "version": 3
   },
   "file_extension": ".py",
   "mimetype": "text/x-python",
   "name": "python",
   "nbconvert_exporter": "python",
   "pygments_lexer": "ipython3",
   "version": "3.8.8"
  }
 },
 "nbformat": 4,
 "nbformat_minor": 5
}
